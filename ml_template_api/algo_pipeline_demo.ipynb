{
 "cells": [
  {
   "cell_type": "markdown",
   "metadata": {},
   "source": [
    "## Data Handler"
   ]
  },
  {
   "cell_type": "code",
   "execution_count": 11,
   "metadata": {},
   "outputs": [],
   "source": [
    "import pandas as pd\n",
    "\n",
    "\n",
    "class DataHandler:\n",
    "    \"\"\"\n",
    "        chargement du dataset dans une classe\n",
    "    \"\"\"\n",
    "    def __inti__(self):\n",
    "        self.df_vgsales\n",
    "\n",
    "    def get_data(self):\n",
    "        \"\"\"\n",
    "            charge les datasets des csv\n",
    "        \"\"\"\n",
    "        self.df_vgsales = pd.read_csv('vgsales.csv', delimiter=\",\", index_col=0)\n",
    "        print(\"Dataset chargés \")\n",
    "\n"
   ]
  },
  {
   "cell_type": "markdown",
   "metadata": {},
   "source": [
    "## Feature Recipe "
   ]
  },
  {
   "cell_type": "code",
   "execution_count": 12,
   "metadata": {},
   "outputs": [],
   "source": [
    "import pandas as pd\n",
    "import numpy as np\n",
    "\n",
    "\n",
    "class FeatureRecipe:\n",
    "\n",
    "    def __init__(self, data):\n",
    "        self.df = data\n",
    "        self.categories = []\n",
    "        self.floats = []\n",
    "        self.int = []\n",
    "        self.drop = []\n",
    "\n",
    "    def dropNaNPourcentage(self, seuil):\n",
    "        \"\"\"\n",
    "            drop la colonne suivant un seuil %( param)\n",
    "        \"\"\"\n",
    "        for colonne in self.df:\n",
    "            nbNaN = self.df[colonne].isna().sum()\n",
    "            if (nbNaN / self.df.shape[0]) * 100 > seuil:\n",
    "                del self.df[colonne]\n",
    "                print('{} supprimée'.format(colonne))\n",
    "\n",
    "    def dropUselessFeature(self):\n",
    "        to_drop = [] # a remplir suivant les colonnes qui sont inutiles\n",
    "        self.df.drop(columns=to_drop, inplace=True)\n",
    "        for colonne in self.df:\n",
    "            if self.df[colonne].nunique() <= 1:\n",
    "                print('{} supprimée'.format(colonne))\n",
    "                del self.df[colonne]\n",
    "\n",
    "    def dropDuplicates(self):\n",
    "        \"\"\"\n",
    "            drop des duplica de colonnes\n",
    "        \"\"\"\n",
    "        i = 0\n",
    "        for colonnes in self.df:\n",
    "            i += 1\n",
    "            y = 0\n",
    "            for colonnesDuplicate in self.df:\n",
    "                y += 1\n",
    "                if i != y and (self.df[colonnes].equals(self.df[colonnesDuplicate])) == True:\n",
    "                    del self.df[colonnesDuplicate]\n",
    "                    print('colonne {} supprimée'.format(colonnesDuplicate))\n",
    "\n",
    "    def separeteVariableTypes(self):\n",
    "        print(\"separating columns\")\n",
    "        for colonne in self.df.columns:\n",
    "            if self.df[colonne].dtypes == int:\n",
    "                self.int.append(self.df[colonne])\n",
    "            elif self.df[colonne].dtypes == float:\n",
    "                self.floats.append(self.df[colonne])\n",
    "            else:\n",
    "                self.categories.append(self.df[colonne])\n",
    "        print(\"nombre de colonnes : {} \\n \\\n",
    "            number of discreet values : {} \\n \\\n",
    "            number of continuous values : {} \\n \\\n",
    "            number of others : {} \\n  \\\n",
    "            taille total : {}\".format(len(self.df.columns), len(self.int), \\\n",
    "                                      len(self.floats), len(self.categories),\n",
    "                                      len(self.int) + len(self.floats) + len(self.categories)))\n",
    "    \n",
    "    def fillNaNDate(self):\n",
    "        self.df.Year = self.df.Year.fillna(self.df.Year.mean())\n",
    "        self.df.Year = self.df.Year.astype('int32')\n",
    "\n",
    "    def prepareData(self, seuil):\n",
    "        self.fillNaNDate()\n",
    "        self.dropUselessFeature()\n",
    "        self.dropDuplicates()\n",
    "        self.dropNaNPourcentage(seuil)\n",
    "        self.separeteVariableTypes()"
   ]
  },
  {
   "cell_type": "markdown",
   "metadata": {},
   "source": [
    "## FeatureExtractor"
   ]
  },
  {
   "cell_type": "code",
   "execution_count": 51,
   "metadata": {},
   "outputs": [],
   "source": [
    "import pandas as pd\n",
    "\n",
    "class FeatureExtractor:\n",
    "    \"\"\"\n",
    "    Feature Extractor class\n",
    "    \"\"\"\n",
    "    def __init__(self, data: pd.DataFrame, flist: list = None):\n",
    "        \"\"\"\n",
    "            Input : pandas.DataFrame, feature list to drop\n",
    "            Output : X_train, X_test, y_train, y_test according to sklearn.model_selection.train_test_split\n",
    "\n",
    "        \"\"\"\n",
    "        self.df = data\n",
    "        self.toDropList = flist\n",
    "        self.X = df[['NA_Sales', 'EU_Sales', 'JP_Sales', 'Other_Sales']].values\n",
    "        self.y = df['Global_Sales'].values\n",
    "        self.X_train, self.X_test, self.y_train, self.y_test = (),(),(),()\n",
    "        \n",
    "    def train(self):\n",
    "        self.X_train, self.X_test, self.y_train, self.y_test = train_test_split(self.X, self.y, test_size=.2, random_state=30)"
   ]
  },
  {
   "cell_type": "markdown",
   "metadata": {},
   "source": [
    "## ModelBuilder"
   ]
  },
  {
   "cell_type": "code",
   "execution_count": 52,
   "metadata": {},
   "outputs": [
    {
     "data": {
      "text/plain": [
       "Name             object\n",
       "Platform         object\n",
       "Year            float64\n",
       "Genre            object\n",
       "Publisher        object\n",
       "NA_Sales        float64\n",
       "EU_Sales        float64\n",
       "JP_Sales        float64\n",
       "Other_Sales     float64\n",
       "Global_Sales    float64\n",
       "dtype: object"
      ]
     },
     "execution_count": 52,
     "metadata": {},
     "output_type": "execute_result"
    }
   ],
   "source": [
    "df.dtypes"
   ]
  },
  {
   "cell_type": "code",
   "execution_count": 72,
   "metadata": {},
   "outputs": [],
   "source": [
    "import pandas as pd\n",
    "from sklearn.model_selection import train_test_split\n",
    "from sklearn.linear_model import LinearRegression \n",
    "from datetime import date\n",
    "import joblib\n",
    "import sys\n",
    "\n",
    "class ModelBuilder:\n",
    "    \"\"\"\n",
    "        Class for train and print results of ml model\n",
    "    \"\"\"\n",
    "\n",
    "    def __init__(self, model_path: str = None, save: bool = None):\n",
    "        \"\"\"\n",
    "        constructeur \n",
    "        \"\"\"\n",
    "        self.model_filename = model_path\n",
    "        self.saveModel = save\n",
    "        self.date = date.today().isoformat()\n",
    "        self.X_train, self.X_test, self.y_train, self.y_test = (), (), (), ()\n",
    "        self.clf = ()\n",
    "\n",
    "    def load_model(self):\n",
    "        try:\n",
    "            self.model_filename = \"model_{}.joblib.z\".format(self.date)\n",
    "            clf = joblib.load(self.model_filename)\n",
    "        except:\n",
    "            print(\"Erreur a l'ouverturedu fichier : {}\".format(sys.exc_info()[0]))\n",
    "\n",
    "    def train(self, X, Y):\n",
    "        \"\"\"\n",
    "\n",
    "        \"\"\"\n",
    "        self.X_train, self.X_test, self.y_train, self.y_test = train_test_split(X, Y, test_size=.2, random_state=30)\n",
    "        self.clf = LinearRegression()\n",
    "        self.clf.fit(self.X_train, self.y_train)\n",
    "\n",
    "    def predict_test(self, X):\n",
    "        \"\"\"\n",
    "            calcul des predictions \n",
    "        \"\"\"\n",
    "        print('Debut predict_test ')\n",
    "        predict = self.clf.predict(self.X_test)\n",
    "        print('Fin predict_test')\n",
    "        return predict\n",
    "\n",
    "    def save_model(self, path: str):\n",
    "        \"\"\"\n",
    "            Enregistrement du model \n",
    "        \"\"\"\n",
    "        if self.saveModel == True:\n",
    "            print(\"enregistrement du model\")\n",
    "            model_filename = \"model_{}.joblib.z\".format(self.date)\n",
    "            joblib.dump((self.clf), model_filename)\n",
    "            print(\"enregistrement du model terminé\")\n",
    "\n",
    "    def print_accuracy(self):\n",
    "        \"\"\"\n",
    "            affichage de la precision des predictions\n",
    "        \"\"\"\n",
    "        accuracy = self.clf.score(self.X_test, self.y_test)\n",
    "        print('precision : {}'.format(accuracy))\n",
    "\n",
    "    def calculData(self, X, Y):\n",
    "        self.train(X, Y)\n",
    "        self.predict_test(X)\n",
    "        self.print_accuracy()\n",
    "        self.save_model(\"\")"
   ]
  },
  {
   "cell_type": "code",
   "execution_count": 73,
   "metadata": {},
   "outputs": [],
   "source": [
    "df = pd.read_csv('vgsales.csv', delimiter=\",\", index_col=0)"
   ]
  },
  {
   "cell_type": "code",
   "execution_count": 74,
   "metadata": {},
   "outputs": [
    {
     "name": "stdout",
     "output_type": "stream",
     "text": [
      "Dataset chargés \n"
     ]
    }
   ],
   "source": [
    "data = DataHandler()\n",
    "data.get_data()"
   ]
  },
  {
   "cell_type": "code",
   "execution_count": 75,
   "metadata": {},
   "outputs": [
    {
     "name": "stdout",
     "output_type": "stream",
     "text": [
      "separating columns\n",
      "nombre de colonnes : 10 \n",
      "             number of discreet values : 1 \n",
      "             number of continuous values : 5 \n",
      "             number of others : 4 \n",
      "              taille total : 10\n"
     ]
    }
   ],
   "source": [
    "featuresRecipe = FeatureRecipe(data.df_vgsales)\n",
    "featuresRecipe.prepareData(3)"
   ]
  },
  {
   "cell_type": "code",
   "execution_count": 76,
   "metadata": {},
   "outputs": [],
   "source": [
    "extractor = FeatureExtractor(featuresRecipe.df)\n",
    "extractor.train()"
   ]
  },
  {
   "cell_type": "code",
   "execution_count": 77,
   "metadata": {},
   "outputs": [
    {
     "name": "stdout",
     "output_type": "stream",
     "text": [
      "Debut predict_test \n",
      "Fin predict_test\n",
      "precision : 0.999989546076212\n",
      "enregistrement du model\n",
      "enregistrement du model terminé\n"
     ]
    }
   ],
   "source": [
    "buildModel = ModelBuilder(\"\",True)\n",
    "buildModel.calculData(extractor.X, extractor.y)"
   ]
  },
  {
   "cell_type": "code",
   "execution_count": null,
   "metadata": {},
   "outputs": [],
   "source": []
  },
  {
   "cell_type": "code",
   "execution_count": null,
   "metadata": {},
   "outputs": [],
   "source": []
  },
  {
   "cell_type": "code",
   "execution_count": null,
   "metadata": {},
   "outputs": [],
   "source": []
  },
  {
   "cell_type": "code",
   "execution_count": null,
   "metadata": {},
   "outputs": [],
   "source": []
  },
  {
   "cell_type": "code",
   "execution_count": null,
   "metadata": {},
   "outputs": [],
   "source": []
  },
  {
   "cell_type": "code",
   "execution_count": null,
   "metadata": {},
   "outputs": [],
   "source": []
  },
  {
   "cell_type": "code",
   "execution_count": null,
   "metadata": {},
   "outputs": [],
   "source": []
  },
  {
   "cell_type": "code",
   "execution_count": null,
   "metadata": {},
   "outputs": [],
   "source": []
  },
  {
   "cell_type": "code",
   "execution_count": null,
   "metadata": {},
   "outputs": [],
   "source": []
  },
  {
   "cell_type": "code",
   "execution_count": null,
   "metadata": {},
   "outputs": [],
   "source": []
  },
  {
   "cell_type": "code",
   "execution_count": null,
   "metadata": {},
   "outputs": [],
   "source": []
  },
  {
   "cell_type": "code",
   "execution_count": null,
   "metadata": {},
   "outputs": [],
   "source": []
  }
 ],
 "metadata": {
  "kernelspec": {
   "display_name": "Python 3",
   "language": "python",
   "name": "python3"
  },
  "language_info": {
   "codemirror_mode": {
    "name": "ipython",
    "version": 3
   },
   "file_extension": ".py",
   "mimetype": "text/x-python",
   "name": "python",
   "nbconvert_exporter": "python",
   "pygments_lexer": "ipython3",
   "version": "3.8.6"
  }
 },
 "nbformat": 4,
 "nbformat_minor": 4
}
